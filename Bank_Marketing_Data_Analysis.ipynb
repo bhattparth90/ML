{
 "cells": [
  {
   "cell_type": "markdown",
   "metadata": {},
   "source": [
    "# Machine Learning Project"
   ]
  },
  {
   "cell_type": "markdown",
   "metadata": {},
   "source": [
    "## Bank Marketing Data Set"
   ]
  },
  {
   "cell_type": "markdown",
   "metadata": {},
   "source": [
    "#### DATASET: https://archive.ics.uci.edu/ml/datasets/bank+marketing "
   ]
  },
  {
   "cell_type": "markdown",
   "metadata": {},
   "source": [
    "> • Question \n",
    "\n",
    "> > 1. What are the factors which are influencing the deals?\n",
    "> > 2. should the marketing team continue their focus or they should change it\n",
    "> > 3. Is the marketing result fruitful? \n",
    "\n",
    "> • Analysis \n",
    "\n",
    "> > We plan to use following models for Analysis\n",
    "> > > 1. Logistics Regression\n",
    "> > > 2. Random Forest Classifier\n",
    "> > > 3. Linear Discriminant Analysis\n",
    "> > > 4. K Nearest Neighbour\n",
    "\n",
    "> Data: The data is related with direct marketing campaigns of a Portuguese banking institution. The marketing campaigns were based on phone calls. Often, more than one contact to the same client was required, in order to access if the product (bank term deposit) would be ('yes') or not ('no') subscribed\n"
   ]
  },
  {
   "cell_type": "code",
   "execution_count": 53,
   "metadata": {
    "collapsed": true
   },
   "outputs": [],
   "source": [
    "%matplotlib inline\n",
    "\n",
    "import os\n",
    "import numpy as np # importing numpy array\n",
    "import pandas as pd # importing panda library\n",
    "import seaborn as sns # importing seaborn, advanced of matplot\n",
    "import matplotlib.pyplot as plt\n",
    "from statsmodels.formula.api import ols\n",
    "import scipy.stats as st\n",
    "import statsmodels.api as sm\n",
    "from scipy.stats.stats import pearsonr\n",
    "\n",
    "pd.options.display.max_rows = 30\n",
    "sns.set(style='ticks', context='talk')"
   ]
  },
  {
   "cell_type": "code",
   "execution_count": 54,
   "metadata": {
    "scrolled": true
   },
   "outputs": [
    {
     "data": {
      "text/html": [
       "<div>\n",
       "<style>\n",
       "    .dataframe thead tr:only-child th {\n",
       "        text-align: right;\n",
       "    }\n",
       "\n",
       "    .dataframe thead th {\n",
       "        text-align: left;\n",
       "    }\n",
       "\n",
       "    .dataframe tbody tr th {\n",
       "        vertical-align: top;\n",
       "    }\n",
       "</style>\n",
       "<table border=\"1\" class=\"dataframe\">\n",
       "  <thead>\n",
       "    <tr style=\"text-align: right;\">\n",
       "      <th></th>\n",
       "      <th>\"age</th>\n",
       "      <th>\"\"job\"\"</th>\n",
       "      <th>\"\"marital\"\"</th>\n",
       "      <th>\"\"education\"\"</th>\n",
       "      <th>\"\"default\"\"</th>\n",
       "      <th>\"\"balance\"\"</th>\n",
       "      <th>\"\"housing\"\"</th>\n",
       "      <th>\"\"loan\"\"</th>\n",
       "      <th>\"\"contact\"\"</th>\n",
       "      <th>\"\"day\"\"</th>\n",
       "      <th>\"\"month\"\"</th>\n",
       "      <th>\"\"duration\"\"</th>\n",
       "      <th>\"\"campaign\"\"</th>\n",
       "      <th>\"\"pdays\"\"</th>\n",
       "      <th>\"\"previous\"\"</th>\n",
       "      <th>\"\"poutcome\"\"</th>\n",
       "      <th>\"\"y\"\"\"</th>\n",
       "    </tr>\n",
       "  </thead>\n",
       "  <tbody>\n",
       "    <tr>\n",
       "      <th>0</th>\n",
       "      <td>\"58</td>\n",
       "      <td>\"\"management\"\"</td>\n",
       "      <td>\"\"married\"\"</td>\n",
       "      <td>\"\"tertiary\"\"</td>\n",
       "      <td>\"\"no\"\"</td>\n",
       "      <td>2143</td>\n",
       "      <td>\"\"yes\"\"</td>\n",
       "      <td>\"\"no\"\"</td>\n",
       "      <td>\"\"unknown\"\"</td>\n",
       "      <td>5</td>\n",
       "      <td>\"\"may\"\"</td>\n",
       "      <td>261</td>\n",
       "      <td>1</td>\n",
       "      <td>-1</td>\n",
       "      <td>0</td>\n",
       "      <td>\"\"unknown\"\"</td>\n",
       "      <td>\"\"no\"\"\"</td>\n",
       "    </tr>\n",
       "    <tr>\n",
       "      <th>1</th>\n",
       "      <td>\"44</td>\n",
       "      <td>\"\"technician\"\"</td>\n",
       "      <td>\"\"single\"\"</td>\n",
       "      <td>\"\"secondary\"\"</td>\n",
       "      <td>\"\"no\"\"</td>\n",
       "      <td>29</td>\n",
       "      <td>\"\"yes\"\"</td>\n",
       "      <td>\"\"no\"\"</td>\n",
       "      <td>\"\"unknown\"\"</td>\n",
       "      <td>5</td>\n",
       "      <td>\"\"may\"\"</td>\n",
       "      <td>151</td>\n",
       "      <td>1</td>\n",
       "      <td>-1</td>\n",
       "      <td>0</td>\n",
       "      <td>\"\"unknown\"\"</td>\n",
       "      <td>\"\"no\"\"\"</td>\n",
       "    </tr>\n",
       "    <tr>\n",
       "      <th>2</th>\n",
       "      <td>\"33</td>\n",
       "      <td>\"\"entrepreneur\"\"</td>\n",
       "      <td>\"\"married\"\"</td>\n",
       "      <td>\"\"secondary\"\"</td>\n",
       "      <td>\"\"no\"\"</td>\n",
       "      <td>2</td>\n",
       "      <td>\"\"yes\"\"</td>\n",
       "      <td>\"\"yes\"\"</td>\n",
       "      <td>\"\"unknown\"\"</td>\n",
       "      <td>5</td>\n",
       "      <td>\"\"may\"\"</td>\n",
       "      <td>76</td>\n",
       "      <td>1</td>\n",
       "      <td>-1</td>\n",
       "      <td>0</td>\n",
       "      <td>\"\"unknown\"\"</td>\n",
       "      <td>\"\"no\"\"\"</td>\n",
       "    </tr>\n",
       "    <tr>\n",
       "      <th>3</th>\n",
       "      <td>\"47</td>\n",
       "      <td>\"\"blue-collar\"\"</td>\n",
       "      <td>\"\"married\"\"</td>\n",
       "      <td>\"\"unknown\"\"</td>\n",
       "      <td>\"\"no\"\"</td>\n",
       "      <td>1506</td>\n",
       "      <td>\"\"yes\"\"</td>\n",
       "      <td>\"\"no\"\"</td>\n",
       "      <td>\"\"unknown\"\"</td>\n",
       "      <td>5</td>\n",
       "      <td>\"\"may\"\"</td>\n",
       "      <td>92</td>\n",
       "      <td>1</td>\n",
       "      <td>-1</td>\n",
       "      <td>0</td>\n",
       "      <td>\"\"unknown\"\"</td>\n",
       "      <td>\"\"no\"\"\"</td>\n",
       "    </tr>\n",
       "    <tr>\n",
       "      <th>4</th>\n",
       "      <td>\"33</td>\n",
       "      <td>\"\"unknown\"\"</td>\n",
       "      <td>\"\"single\"\"</td>\n",
       "      <td>\"\"unknown\"\"</td>\n",
       "      <td>\"\"no\"\"</td>\n",
       "      <td>1</td>\n",
       "      <td>\"\"no\"\"</td>\n",
       "      <td>\"\"no\"\"</td>\n",
       "      <td>\"\"unknown\"\"</td>\n",
       "      <td>5</td>\n",
       "      <td>\"\"may\"\"</td>\n",
       "      <td>198</td>\n",
       "      <td>1</td>\n",
       "      <td>-1</td>\n",
       "      <td>0</td>\n",
       "      <td>\"\"unknown\"\"</td>\n",
       "      <td>\"\"no\"\"\"</td>\n",
       "    </tr>\n",
       "  </tbody>\n",
       "</table>\n",
       "</div>"
      ],
      "text/plain": [
       "  \"age           \"\"job\"\"  \"\"marital\"\"  \"\"education\"\" \"\"default\"\"  \"\"balance\"\"  \\\n",
       "0  \"58    \"\"management\"\"  \"\"married\"\"   \"\"tertiary\"\"      \"\"no\"\"         2143   \n",
       "1  \"44    \"\"technician\"\"   \"\"single\"\"  \"\"secondary\"\"      \"\"no\"\"           29   \n",
       "2  \"33  \"\"entrepreneur\"\"  \"\"married\"\"  \"\"secondary\"\"      \"\"no\"\"            2   \n",
       "3  \"47   \"\"blue-collar\"\"  \"\"married\"\"    \"\"unknown\"\"      \"\"no\"\"         1506   \n",
       "4  \"33       \"\"unknown\"\"   \"\"single\"\"    \"\"unknown\"\"      \"\"no\"\"            1   \n",
       "\n",
       "  \"\"housing\"\" \"\"loan\"\"  \"\"contact\"\"  \"\"day\"\" \"\"month\"\"  \"\"duration\"\"  \\\n",
       "0     \"\"yes\"\"   \"\"no\"\"  \"\"unknown\"\"        5   \"\"may\"\"           261   \n",
       "1     \"\"yes\"\"   \"\"no\"\"  \"\"unknown\"\"        5   \"\"may\"\"           151   \n",
       "2     \"\"yes\"\"  \"\"yes\"\"  \"\"unknown\"\"        5   \"\"may\"\"            76   \n",
       "3     \"\"yes\"\"   \"\"no\"\"  \"\"unknown\"\"        5   \"\"may\"\"            92   \n",
       "4      \"\"no\"\"   \"\"no\"\"  \"\"unknown\"\"        5   \"\"may\"\"           198   \n",
       "\n",
       "   \"\"campaign\"\"  \"\"pdays\"\"  \"\"previous\"\" \"\"poutcome\"\"   \"\"y\"\"\"  \n",
       "0             1         -1             0  \"\"unknown\"\"  \"\"no\"\"\"  \n",
       "1             1         -1             0  \"\"unknown\"\"  \"\"no\"\"\"  \n",
       "2             1         -1             0  \"\"unknown\"\"  \"\"no\"\"\"  \n",
       "3             1         -1             0  \"\"unknown\"\"  \"\"no\"\"\"  \n",
       "4             1         -1             0  \"\"unknown\"\"  \"\"no\"\"\"  "
      ]
     },
     "execution_count": 54,
     "metadata": {},
     "output_type": "execute_result"
    }
   ],
   "source": [
    "#read_csv is a function in pandas used to read data from an csv file into a list of DataFrames\n",
    "tables = pd.read_csv(\"C:/Users/asher/Desktop/Asher_MS/Sem 2/Machine Learning/Assignments/Project/bank-full.csv\",engine=\"python\",index_col=False,sep=';\\s*')\n",
    "tables.head()\n"
   ]
  },
  {
   "cell_type": "markdown",
   "metadata": {},
   "source": [
    "# Information about our data\n",
    "\n",
    "Input variables:\n",
    "    bank client data:\n",
    "1. - age (numeric)\n",
    "2. - job : type of job \n",
    "3. - marital : marital status \n",
    "4. - education \n",
    "5. - default: has credit in default? \n",
    "6. - housing: has housing loan? \n",
    "7. - loan: has personal loan? \n",
    "8. - contact: contact communication type  \n",
    "9. - month: last contact month of year \n",
    "10. - day_of_week: last contact day of the week\n",
    "11. - duration: last contact duration, in seconds (numeric). \n",
    "12. - campaign: number of contacts performed during this campaign and for this client (numeric, includes last contact)\n",
    "13. - pdays: number of days that passed by after the client was last contacted from a previous campaign \n",
    "14. - previous: number of contacts performed before this campaign and for this client (numeric)\n",
    "15. - poutcome: outcome of the previous marketing campaign \n",
    "16. - balance- balance of the customers\n",
    "17. - deals, whether the calls/marketing resulted in getting a deal for the bank"
   ]
  },
  {
   "cell_type": "markdown",
   "metadata": {},
   "source": [
    "# Data Cleaning"
   ]
  },
  {
   "cell_type": "markdown",
   "metadata": {},
   "source": [
    " 1. remove all the \" from columns"
   ]
  },
  {
   "cell_type": "code",
   "execution_count": 55,
   "metadata": {},
   "outputs": [
    {
     "data": {
      "text/html": [
       "<div>\n",
       "<style>\n",
       "    .dataframe thead tr:only-child th {\n",
       "        text-align: right;\n",
       "    }\n",
       "\n",
       "    .dataframe thead th {\n",
       "        text-align: left;\n",
       "    }\n",
       "\n",
       "    .dataframe tbody tr th {\n",
       "        vertical-align: top;\n",
       "    }\n",
       "</style>\n",
       "<table border=\"1\" class=\"dataframe\">\n",
       "  <thead>\n",
       "    <tr style=\"text-align: right;\">\n",
       "      <th></th>\n",
       "      <th>age</th>\n",
       "      <th>job</th>\n",
       "      <th>marital</th>\n",
       "      <th>education</th>\n",
       "      <th>default</th>\n",
       "      <th>balance</th>\n",
       "      <th>housing</th>\n",
       "      <th>loan</th>\n",
       "      <th>contact</th>\n",
       "      <th>day</th>\n",
       "      <th>month</th>\n",
       "      <th>duration</th>\n",
       "      <th>campaign</th>\n",
       "      <th>pdays</th>\n",
       "      <th>previous</th>\n",
       "      <th>poutcome</th>\n",
       "      <th>deals</th>\n",
       "    </tr>\n",
       "  </thead>\n",
       "  <tbody>\n",
       "    <tr>\n",
       "      <th>0</th>\n",
       "      <td>\"58</td>\n",
       "      <td>\"\"management\"\"</td>\n",
       "      <td>\"\"married\"\"</td>\n",
       "      <td>\"\"tertiary\"\"</td>\n",
       "      <td>\"\"no\"\"</td>\n",
       "      <td>2143</td>\n",
       "      <td>\"\"yes\"\"</td>\n",
       "      <td>\"\"no\"\"</td>\n",
       "      <td>\"\"unknown\"\"</td>\n",
       "      <td>5</td>\n",
       "      <td>\"\"may\"\"</td>\n",
       "      <td>261</td>\n",
       "      <td>1</td>\n",
       "      <td>-1</td>\n",
       "      <td>0</td>\n",
       "      <td>\"\"unknown\"\"</td>\n",
       "      <td>\"\"no\"\"\"</td>\n",
       "    </tr>\n",
       "    <tr>\n",
       "      <th>1</th>\n",
       "      <td>\"44</td>\n",
       "      <td>\"\"technician\"\"</td>\n",
       "      <td>\"\"single\"\"</td>\n",
       "      <td>\"\"secondary\"\"</td>\n",
       "      <td>\"\"no\"\"</td>\n",
       "      <td>29</td>\n",
       "      <td>\"\"yes\"\"</td>\n",
       "      <td>\"\"no\"\"</td>\n",
       "      <td>\"\"unknown\"\"</td>\n",
       "      <td>5</td>\n",
       "      <td>\"\"may\"\"</td>\n",
       "      <td>151</td>\n",
       "      <td>1</td>\n",
       "      <td>-1</td>\n",
       "      <td>0</td>\n",
       "      <td>\"\"unknown\"\"</td>\n",
       "      <td>\"\"no\"\"\"</td>\n",
       "    </tr>\n",
       "    <tr>\n",
       "      <th>2</th>\n",
       "      <td>\"33</td>\n",
       "      <td>\"\"entrepreneur\"\"</td>\n",
       "      <td>\"\"married\"\"</td>\n",
       "      <td>\"\"secondary\"\"</td>\n",
       "      <td>\"\"no\"\"</td>\n",
       "      <td>2</td>\n",
       "      <td>\"\"yes\"\"</td>\n",
       "      <td>\"\"yes\"\"</td>\n",
       "      <td>\"\"unknown\"\"</td>\n",
       "      <td>5</td>\n",
       "      <td>\"\"may\"\"</td>\n",
       "      <td>76</td>\n",
       "      <td>1</td>\n",
       "      <td>-1</td>\n",
       "      <td>0</td>\n",
       "      <td>\"\"unknown\"\"</td>\n",
       "      <td>\"\"no\"\"\"</td>\n",
       "    </tr>\n",
       "    <tr>\n",
       "      <th>3</th>\n",
       "      <td>\"47</td>\n",
       "      <td>\"\"blue-collar\"\"</td>\n",
       "      <td>\"\"married\"\"</td>\n",
       "      <td>\"\"unknown\"\"</td>\n",
       "      <td>\"\"no\"\"</td>\n",
       "      <td>1506</td>\n",
       "      <td>\"\"yes\"\"</td>\n",
       "      <td>\"\"no\"\"</td>\n",
       "      <td>\"\"unknown\"\"</td>\n",
       "      <td>5</td>\n",
       "      <td>\"\"may\"\"</td>\n",
       "      <td>92</td>\n",
       "      <td>1</td>\n",
       "      <td>-1</td>\n",
       "      <td>0</td>\n",
       "      <td>\"\"unknown\"\"</td>\n",
       "      <td>\"\"no\"\"\"</td>\n",
       "    </tr>\n",
       "    <tr>\n",
       "      <th>4</th>\n",
       "      <td>\"33</td>\n",
       "      <td>\"\"unknown\"\"</td>\n",
       "      <td>\"\"single\"\"</td>\n",
       "      <td>\"\"unknown\"\"</td>\n",
       "      <td>\"\"no\"\"</td>\n",
       "      <td>1</td>\n",
       "      <td>\"\"no\"\"</td>\n",
       "      <td>\"\"no\"\"</td>\n",
       "      <td>\"\"unknown\"\"</td>\n",
       "      <td>5</td>\n",
       "      <td>\"\"may\"\"</td>\n",
       "      <td>198</td>\n",
       "      <td>1</td>\n",
       "      <td>-1</td>\n",
       "      <td>0</td>\n",
       "      <td>\"\"unknown\"\"</td>\n",
       "      <td>\"\"no\"\"\"</td>\n",
       "    </tr>\n",
       "  </tbody>\n",
       "</table>\n",
       "</div>"
      ],
      "text/plain": [
       "   age               job      marital      education default  balance  \\\n",
       "0  \"58    \"\"management\"\"  \"\"married\"\"   \"\"tertiary\"\"  \"\"no\"\"     2143   \n",
       "1  \"44    \"\"technician\"\"   \"\"single\"\"  \"\"secondary\"\"  \"\"no\"\"       29   \n",
       "2  \"33  \"\"entrepreneur\"\"  \"\"married\"\"  \"\"secondary\"\"  \"\"no\"\"        2   \n",
       "3  \"47   \"\"blue-collar\"\"  \"\"married\"\"    \"\"unknown\"\"  \"\"no\"\"     1506   \n",
       "4  \"33       \"\"unknown\"\"   \"\"single\"\"    \"\"unknown\"\"  \"\"no\"\"        1   \n",
       "\n",
       "   housing     loan      contact  day    month  duration  campaign  pdays  \\\n",
       "0  \"\"yes\"\"   \"\"no\"\"  \"\"unknown\"\"    5  \"\"may\"\"       261         1     -1   \n",
       "1  \"\"yes\"\"   \"\"no\"\"  \"\"unknown\"\"    5  \"\"may\"\"       151         1     -1   \n",
       "2  \"\"yes\"\"  \"\"yes\"\"  \"\"unknown\"\"    5  \"\"may\"\"        76         1     -1   \n",
       "3  \"\"yes\"\"   \"\"no\"\"  \"\"unknown\"\"    5  \"\"may\"\"        92         1     -1   \n",
       "4   \"\"no\"\"   \"\"no\"\"  \"\"unknown\"\"    5  \"\"may\"\"       198         1     -1   \n",
       "\n",
       "   previous     poutcome    deals  \n",
       "0         0  \"\"unknown\"\"  \"\"no\"\"\"  \n",
       "1         0  \"\"unknown\"\"  \"\"no\"\"\"  \n",
       "2         0  \"\"unknown\"\"  \"\"no\"\"\"  \n",
       "3         0  \"\"unknown\"\"  \"\"no\"\"\"  \n",
       "4         0  \"\"unknown\"\"  \"\"no\"\"\"  "
      ]
     },
     "execution_count": 55,
     "metadata": {},
     "output_type": "execute_result"
    }
   ],
   "source": [
    "tables.columns=['age','job','marital','education','default','balance','housing','loan','contact','day','month','duration','campaign','pdays','previous','poutcome','deals']\n",
    "tables.head()"
   ]
  },
  {
   "cell_type": "code",
   "execution_count": 56,
   "metadata": {},
   "outputs": [
    {
     "data": {
      "text/html": [
       "<div>\n",
       "<style>\n",
       "    .dataframe thead tr:only-child th {\n",
       "        text-align: right;\n",
       "    }\n",
       "\n",
       "    .dataframe thead th {\n",
       "        text-align: left;\n",
       "    }\n",
       "\n",
       "    .dataframe tbody tr th {\n",
       "        vertical-align: top;\n",
       "    }\n",
       "</style>\n",
       "<table border=\"1\" class=\"dataframe\">\n",
       "  <thead>\n",
       "    <tr style=\"text-align: right;\">\n",
       "      <th></th>\n",
       "      <th>age</th>\n",
       "      <th>job</th>\n",
       "      <th>marital</th>\n",
       "      <th>education</th>\n",
       "      <th>default</th>\n",
       "      <th>balance</th>\n",
       "      <th>housing</th>\n",
       "      <th>loan</th>\n",
       "      <th>contact</th>\n",
       "      <th>day</th>\n",
       "      <th>month</th>\n",
       "      <th>duration</th>\n",
       "      <th>campaign</th>\n",
       "      <th>pdays</th>\n",
       "      <th>previous</th>\n",
       "      <th>poutcome</th>\n",
       "      <th>deals</th>\n",
       "    </tr>\n",
       "  </thead>\n",
       "  <tbody>\n",
       "    <tr>\n",
       "      <th>0</th>\n",
       "      <td>58</td>\n",
       "      <td>management</td>\n",
       "      <td>married</td>\n",
       "      <td>tertiary</td>\n",
       "      <td>no</td>\n",
       "      <td>2143</td>\n",
       "      <td>yes</td>\n",
       "      <td>no</td>\n",
       "      <td>unknown</td>\n",
       "      <td>5</td>\n",
       "      <td>may</td>\n",
       "      <td>261</td>\n",
       "      <td>1</td>\n",
       "      <td>-1</td>\n",
       "      <td>0</td>\n",
       "      <td>unknown</td>\n",
       "      <td>no</td>\n",
       "    </tr>\n",
       "    <tr>\n",
       "      <th>1</th>\n",
       "      <td>44</td>\n",
       "      <td>technician</td>\n",
       "      <td>single</td>\n",
       "      <td>secondary</td>\n",
       "      <td>no</td>\n",
       "      <td>29</td>\n",
       "      <td>yes</td>\n",
       "      <td>no</td>\n",
       "      <td>unknown</td>\n",
       "      <td>5</td>\n",
       "      <td>may</td>\n",
       "      <td>151</td>\n",
       "      <td>1</td>\n",
       "      <td>-1</td>\n",
       "      <td>0</td>\n",
       "      <td>unknown</td>\n",
       "      <td>no</td>\n",
       "    </tr>\n",
       "    <tr>\n",
       "      <th>2</th>\n",
       "      <td>33</td>\n",
       "      <td>entrepreneur</td>\n",
       "      <td>married</td>\n",
       "      <td>secondary</td>\n",
       "      <td>no</td>\n",
       "      <td>2</td>\n",
       "      <td>yes</td>\n",
       "      <td>yes</td>\n",
       "      <td>unknown</td>\n",
       "      <td>5</td>\n",
       "      <td>may</td>\n",
       "      <td>76</td>\n",
       "      <td>1</td>\n",
       "      <td>-1</td>\n",
       "      <td>0</td>\n",
       "      <td>unknown</td>\n",
       "      <td>no</td>\n",
       "    </tr>\n",
       "    <tr>\n",
       "      <th>3</th>\n",
       "      <td>47</td>\n",
       "      <td>blue-collar</td>\n",
       "      <td>married</td>\n",
       "      <td>unknown</td>\n",
       "      <td>no</td>\n",
       "      <td>1506</td>\n",
       "      <td>yes</td>\n",
       "      <td>no</td>\n",
       "      <td>unknown</td>\n",
       "      <td>5</td>\n",
       "      <td>may</td>\n",
       "      <td>92</td>\n",
       "      <td>1</td>\n",
       "      <td>-1</td>\n",
       "      <td>0</td>\n",
       "      <td>unknown</td>\n",
       "      <td>no</td>\n",
       "    </tr>\n",
       "    <tr>\n",
       "      <th>4</th>\n",
       "      <td>33</td>\n",
       "      <td>unknown</td>\n",
       "      <td>single</td>\n",
       "      <td>unknown</td>\n",
       "      <td>no</td>\n",
       "      <td>1</td>\n",
       "      <td>no</td>\n",
       "      <td>no</td>\n",
       "      <td>unknown</td>\n",
       "      <td>5</td>\n",
       "      <td>may</td>\n",
       "      <td>198</td>\n",
       "      <td>1</td>\n",
       "      <td>-1</td>\n",
       "      <td>0</td>\n",
       "      <td>unknown</td>\n",
       "      <td>no</td>\n",
       "    </tr>\n",
       "  </tbody>\n",
       "</table>\n",
       "</div>"
      ],
      "text/plain": [
       "  age           job  marital  education default  balance housing loan  \\\n",
       "0  58    management  married   tertiary      no     2143     yes   no   \n",
       "1  44    technician   single  secondary      no       29     yes   no   \n",
       "2  33  entrepreneur  married  secondary      no        2     yes  yes   \n",
       "3  47   blue-collar  married    unknown      no     1506     yes   no   \n",
       "4  33       unknown   single    unknown      no        1      no   no   \n",
       "\n",
       "   contact  day month  duration  campaign  pdays  previous poutcome deals  \n",
       "0  unknown    5   may       261         1     -1         0  unknown    no  \n",
       "1  unknown    5   may       151         1     -1         0  unknown    no  \n",
       "2  unknown    5   may        76         1     -1         0  unknown    no  \n",
       "3  unknown    5   may        92         1     -1         0  unknown    no  \n",
       "4  unknown    5   may       198         1     -1         0  unknown    no  "
      ]
     },
     "execution_count": 56,
     "metadata": {},
     "output_type": "execute_result"
    }
   ],
   "source": [
    "tables['age']=tables.age.str.strip('\"')\n",
    "tables['job']=tables.job.str.strip('\"\"')\n",
    "tables['marital']=tables.marital.str.strip('\"\"')\n",
    "tables['education']=tables.education.str.strip('\"\"')\n",
    "tables['default']=tables.default.str.strip('\"\"')\n",
    "tables['housing']=tables.housing.str.strip('\"\"')\n",
    "tables['loan']=tables.loan.str.strip('\"\"')\n",
    "tables['contact']=tables.contact.str.strip('\"\"')\n",
    "tables['month']=tables.month.str.strip('\"\"')\n",
    "tables['poutcome']=tables.poutcome.str.strip('\"\"')\n",
    "tables['deals']=tables.deals.str.strip('\"\"')\n",
    "tables.head()"
   ]
  },
  {
   "cell_type": "code",
   "execution_count": 57,
   "metadata": {},
   "outputs": [
    {
     "data": {
      "text/plain": [
       "(45211, 17)"
      ]
     },
     "execution_count": 57,
     "metadata": {},
     "output_type": "execute_result"
    }
   ],
   "source": [
    "tables.shape"
   ]
  },
  {
   "cell_type": "markdown",
   "metadata": {},
   "source": [
    "##### Total rows: 45211\n",
    "##### Total Columns: 17\n",
    "\n",
    "##### Checking Data types for all variables:"
   ]
  },
  {
   "cell_type": "code",
   "execution_count": 58,
   "metadata": {},
   "outputs": [
    {
     "data": {
      "text/plain": [
       "age          object\n",
       "job          object\n",
       "marital      object\n",
       "education    object\n",
       "default      object\n",
       "balance       int64\n",
       "housing      object\n",
       "loan         object\n",
       "contact      object\n",
       "day           int64\n",
       "month        object\n",
       "duration      int64\n",
       "campaign      int64\n",
       "pdays         int64\n",
       "previous      int64\n",
       "poutcome     object\n",
       "deals        object\n",
       "dtype: object"
      ]
     },
     "execution_count": 58,
     "metadata": {},
     "output_type": "execute_result"
    }
   ],
   "source": [
    "tables.dtypes"
   ]
  },
  {
   "cell_type": "markdown",
   "metadata": {},
   "source": [
    "##### Checking for null values, we see that we do not have any null values in the data"
   ]
  },
  {
   "cell_type": "code",
   "execution_count": 59,
   "metadata": {},
   "outputs": [
    {
     "data": {
      "text/plain": [
       "False"
      ]
     },
     "execution_count": 59,
     "metadata": {},
     "output_type": "execute_result"
    }
   ],
   "source": [
    "tables.isnull().values.any()"
   ]
  },
  {
   "cell_type": "markdown",
   "metadata": {},
   "source": [
    "##### We have to convert datatype of age from object to numeric"
   ]
  },
  {
   "cell_type": "code",
   "execution_count": 60,
   "metadata": {},
   "outputs": [
    {
     "data": {
      "text/plain": [
       "dtype('int64')"
      ]
     },
     "execution_count": 60,
     "metadata": {},
     "output_type": "execute_result"
    }
   ],
   "source": [
    "tables['age']=pd.to_numeric(tables['age'])\n",
    "tables['age'].dtype"
   ]
  },
  {
   "cell_type": "markdown",
   "metadata": {},
   "source": [
    "##### We have no junk values in deals and education column"
   ]
  },
  {
   "cell_type": "code",
   "execution_count": 61,
   "metadata": {},
   "outputs": [
    {
     "data": {
      "text/plain": [
       "array(['no', 'yes'], dtype=object)"
      ]
     },
     "execution_count": 61,
     "metadata": {},
     "output_type": "execute_result"
    }
   ],
   "source": [
    "tables.deals.unique()"
   ]
  },
  {
   "cell_type": "code",
   "execution_count": 62,
   "metadata": {},
   "outputs": [
    {
     "data": {
      "text/plain": [
       "array(['tertiary', 'secondary', 'unknown', 'primary'], dtype=object)"
      ]
     },
     "execution_count": 62,
     "metadata": {},
     "output_type": "execute_result"
    }
   ],
   "source": [
    "tables.education.unique()"
   ]
  },
  {
   "cell_type": "markdown",
   "metadata": {},
   "source": [
    "<b> How many deals were successful? </b>"
   ]
  },
  {
   "cell_type": "code",
   "execution_count": 63,
   "metadata": {},
   "outputs": [
    {
     "data": {
      "text/plain": [
       "5289"
      ]
     },
     "execution_count": 63,
     "metadata": {},
     "output_type": "execute_result"
    }
   ],
   "source": [
    "tables[tables.deals=='yes'].count()[1]"
   ]
  },
  {
   "cell_type": "markdown",
   "metadata": {},
   "source": [
    "##### Out of 45211 calls made, 5289 deposits were booked. "
   ]
  },
  {
   "cell_type": "code",
   "execution_count": 64,
   "metadata": {},
   "outputs": [
    {
     "data": {
      "text/plain": [
       "<matplotlib.axes._subplots.AxesSubplot at 0x28fe7804e80>"
      ]
     },
     "execution_count": 64,
     "metadata": {},
     "output_type": "execute_result"
    },
    {
     "data": {
      "image/png": "[encoded data removed]",
      "text/plain": [
       "<matplotlib.figure.Figure at 0x28fef114dd8>"
      ]
     },
     "metadata": {},
     "output_type": "display_data"
    }
   ],
   "source": [
    "sns.countplot(x='deals',data=tables,palette='hls')"
   ]
  },
  {
   "cell_type": "markdown",
   "metadata": {},
   "source": [
    "<b> Success rate of the bank marketing? </b>"
   ]
  },
  {
   "cell_type": "code",
   "execution_count": 65,
   "metadata": {},
   "outputs": [
    {
     "data": {
      "text/plain": [
       "11.698480458295547"
      ]
     },
     "execution_count": 65,
     "metadata": {},
     "output_type": "execute_result"
    }
   ],
   "source": [
    "(5289/45211)*100"
   ]
  },
  {
   "cell_type": "code",
   "execution_count": 66,
   "metadata": {},
   "outputs": [
    {
     "data": {
      "text/html": [
       "<div>\n",
       "<style>\n",
       "    .dataframe thead tr:only-child th {\n",
       "        text-align: right;\n",
       "    }\n",
       "\n",
       "    .dataframe thead th {\n",
       "        text-align: left;\n",
       "    }\n",
       "\n",
       "    .dataframe tbody tr th {\n",
       "        vertical-align: top;\n",
       "    }\n",
       "</style>\n",
       "<table border=\"1\" class=\"dataframe\">\n",
       "  <thead>\n",
       "    <tr style=\"text-align: right;\">\n",
       "      <th></th>\n",
       "      <th>age</th>\n",
       "      <th>balance</th>\n",
       "      <th>day</th>\n",
       "      <th>duration</th>\n",
       "      <th>campaign</th>\n",
       "      <th>pdays</th>\n",
       "      <th>previous</th>\n",
       "    </tr>\n",
       "  </thead>\n",
       "  <tbody>\n",
       "    <tr>\n",
       "      <th>count</th>\n",
       "      <td>45211.000000</td>\n",
       "      <td>45211.000000</td>\n",
       "      <td>45211.000000</td>\n",
       "      <td>45211.000000</td>\n",
       "      <td>45211.000000</td>\n",
       "      <td>45211.000000</td>\n",
       "      <td>45211.000000</td>\n",
       "    </tr>\n",
       "    <tr>\n",
       "      <th>mean</th>\n",
       "      <td>40.936210</td>\n",
       "      <td>1362.272058</td>\n",
       "      <td>15.806419</td>\n",
       "      <td>258.163080</td>\n",
       "      <td>2.763841</td>\n",
       "      <td>40.197828</td>\n",
       "      <td>0.580323</td>\n",
       "    </tr>\n",
       "    <tr>\n",
       "      <th>std</th>\n",
       "      <td>10.618762</td>\n",
       "      <td>3044.765829</td>\n",
       "      <td>8.322476</td>\n",
       "      <td>257.527812</td>\n",
       "      <td>3.098021</td>\n",
       "      <td>100.128746</td>\n",
       "      <td>2.303441</td>\n",
       "    </tr>\n",
       "    <tr>\n",
       "      <th>min</th>\n",
       "      <td>18.000000</td>\n",
       "      <td>-8019.000000</td>\n",
       "      <td>1.000000</td>\n",
       "      <td>0.000000</td>\n",
       "      <td>1.000000</td>\n",
       "      <td>-1.000000</td>\n",
       "      <td>0.000000</td>\n",
       "    </tr>\n",
       "    <tr>\n",
       "      <th>25%</th>\n",
       "      <td>33.000000</td>\n",
       "      <td>72.000000</td>\n",
       "      <td>8.000000</td>\n",
       "      <td>103.000000</td>\n",
       "      <td>1.000000</td>\n",
       "      <td>-1.000000</td>\n",
       "      <td>0.000000</td>\n",
       "    </tr>\n",
       "    <tr>\n",
       "      <th>50%</th>\n",
       "      <td>39.000000</td>\n",
       "      <td>448.000000</td>\n",
       "      <td>16.000000</td>\n",
       "      <td>180.000000</td>\n",
       "      <td>2.000000</td>\n",
       "      <td>-1.000000</td>\n",
       "      <td>0.000000</td>\n",
       "    </tr>\n",
       "    <tr>\n",
       "      <th>75%</th>\n",
       "      <td>48.000000</td>\n",
       "      <td>1428.000000</td>\n",
       "      <td>21.000000</td>\n",
       "      <td>319.000000</td>\n",
       "      <td>3.000000</td>\n",
       "      <td>-1.000000</td>\n",
       "      <td>0.000000</td>\n",
       "    </tr>\n",
       "    <tr>\n",
       "      <th>max</th>\n",
       "      <td>95.000000</td>\n",
       "      <td>102127.000000</td>\n",
       "      <td>31.000000</td>\n",
       "      <td>4918.000000</td>\n",
       "      <td>63.000000</td>\n",
       "      <td>871.000000</td>\n",
       "      <td>275.000000</td>\n",
       "    </tr>\n",
       "  </tbody>\n",
       "</table>\n",
       "</div>"
      ],
      "text/plain": [
       "                age        balance           day      duration      campaign  \\\n",
       "count  45211.000000   45211.000000  45211.000000  45211.000000  45211.000000   \n",
       "mean      40.936210    1362.272058     15.806419    258.163080      2.763841   \n",
       "std       10.618762    3044.765829      8.322476    257.527812      3.098021   \n",
       "min       18.000000   -8019.000000      1.000000      0.000000      1.000000   \n",
       "25%       33.000000      72.000000      8.000000    103.000000      1.000000   \n",
       "50%       39.000000     448.000000     16.000000    180.000000      2.000000   \n",
       "75%       48.000000    1428.000000     21.000000    319.000000      3.000000   \n",
       "max       95.000000  102127.000000     31.000000   4918.000000     63.000000   \n",
       "\n",
       "              pdays      previous  \n",
       "count  45211.000000  45211.000000  \n",
       "mean      40.197828      0.580323  \n",
       "std      100.128746      2.303441  \n",
       "min       -1.000000      0.000000  \n",
       "25%       -1.000000      0.000000  \n",
       "50%       -1.000000      0.000000  \n",
       "75%       -1.000000      0.000000  \n",
       "max      871.000000    275.000000  "
      ]
     },
     "execution_count": 66,
     "metadata": {},
     "output_type": "execute_result"
    }
   ],
   "source": [
    "tables.describe()"
   ]
  },
  {
   "cell_type": "markdown",
   "metadata": {},
   "source": [
    "As seen from the data, the minimum age is <b>18</b> and the maximum age is <b>95</b>, with mean age being <b>41</b> \n",
    "and the balance range is also diverse with person being in debt and earning 100 grands \n",
    "</b>"
   ]
  },
  {
   "cell_type": "markdown",
   "metadata": {},
   "source": [
    "# Data Analysis and Data Distribution"
   ]
  },
  {
   "cell_type": "code",
   "execution_count": 67,
   "metadata": {},
   "outputs": [
    {
     "data": {
      "text/html": [
       "<div>\n",
       "<style>\n",
       "    .dataframe thead tr:only-child th {\n",
       "        text-align: right;\n",
       "    }\n",
       "\n",
       "    .dataframe thead th {\n",
       "        text-align: left;\n",
       "    }\n",
       "\n",
       "    .dataframe tbody tr th {\n",
       "        vertical-align: top;\n",
       "    }\n",
       "</style>\n",
       "<table border=\"1\" class=\"dataframe\">\n",
       "  <thead>\n",
       "    <tr style=\"text-align: right;\">\n",
       "      <th></th>\n",
       "      <th>age</th>\n",
       "      <th>balance</th>\n",
       "      <th>day</th>\n",
       "      <th>duration</th>\n",
       "      <th>campaign</th>\n",
       "      <th>pdays</th>\n",
       "      <th>previous</th>\n",
       "    </tr>\n",
       "    <tr>\n",
       "      <th>deals</th>\n",
       "      <th></th>\n",
       "      <th></th>\n",
       "      <th></th>\n",
       "      <th></th>\n",
       "      <th></th>\n",
       "      <th></th>\n",
       "      <th></th>\n",
       "    </tr>\n",
       "  </thead>\n",
       "  <tbody>\n",
       "    <tr>\n",
       "      <th>no</th>\n",
       "      <td>40.838986</td>\n",
       "      <td>1303.714969</td>\n",
       "      <td>15.892290</td>\n",
       "      <td>221.182806</td>\n",
       "      <td>2.846350</td>\n",
       "      <td>36.421372</td>\n",
       "      <td>0.502154</td>\n",
       "    </tr>\n",
       "    <tr>\n",
       "      <th>yes</th>\n",
       "      <td>41.670070</td>\n",
       "      <td>1804.267915</td>\n",
       "      <td>15.158253</td>\n",
       "      <td>537.294574</td>\n",
       "      <td>2.141047</td>\n",
       "      <td>68.702968</td>\n",
       "      <td>1.170354</td>\n",
       "    </tr>\n",
       "  </tbody>\n",
       "</table>\n",
       "</div>"
      ],
      "text/plain": [
       "             age      balance        day    duration  campaign      pdays  \\\n",
       "deals                                                                       \n",
       "no     40.838986  1303.714969  15.892290  221.182806  2.846350  36.421372   \n",
       "yes    41.670070  1804.267915  15.158253  537.294574  2.141047  68.702968   \n",
       "\n",
       "       previous  \n",
       "deals            \n",
       "no     0.502154  \n",
       "yes    1.170354  "
      ]
     },
     "execution_count": 67,
     "metadata": {},
     "output_type": "execute_result"
    }
   ],
   "source": [
    "tables.groupby('deals').mean()"
   ]
  },
  {
   "cell_type": "markdown",
   "metadata": {},
   "source": [
    "## Observations:\n",
    "\n",
    ">The average age of customers who bought the term deposit is higher than that of the customers who didn’t.\n",
    "\n",
    ">The pdays (days since the customer was last contacted) is understandably higher for the customers who bought it. The lower the pdays, the better the memory of the last call and hence the better chances of a sale.\n",
    "\n",
    ">Surprisingly, campaigns (number of contacts or calls made during the current campaign) are lower for customers who bought the term deposit."
   ]
  },
  {
   "cell_type": "markdown",
   "metadata": {},
   "source": [
    "##### Distriution of balance variable"
   ]
  },
  {
   "cell_type": "code",
   "execution_count": 68,
   "metadata": {},
   "outputs": [
    {
     "data": {
      "image/png": "[encoded data removed]",
      "text/plain": [
       "<matplotlib.figure.Figure at 0x28fef145908>"
      ]
     },
     "metadata": {},
     "output_type": "display_data"
    }
   ],
   "source": [
    "plt.hist(tables.balance,bins=50)\n",
    "plt.show()"
   ]
  },
  {
   "cell_type": "markdown",
   "metadata": {},
   "source": [
    "We can see that the data is right skewed."
   ]
  },
  {
   "cell_type": "code",
   "execution_count": 69,
   "metadata": {},
   "outputs": [
    {
     "data": {
      "image/png": "[encoded data removed]",
      "text/plain": [
       "<matplotlib.figure.Figure at 0x28feac419b0>"
      ]
     },
     "metadata": {},
     "output_type": "display_data"
    }
   ],
   "source": [
    "# Distriution of Age variable\n",
    "plt.hist(tables.age,bins=10)\n",
    "plt.show()"
   ]
  },
  {
   "cell_type": "markdown",
   "metadata": {},
   "source": [
    "We see that maximum population is in the age group of 30-60 years "
   ]
  },
  {
   "cell_type": "code",
   "execution_count": 70,
   "metadata": {},
   "outputs": [
    {
     "data": {
      "image/png": "[encoded data removed]",
      "text/plain": [
       "<matplotlib.figure.Figure at 0x28fef148c50>"
      ]
     },
     "metadata": {},
     "output_type": "display_data"
    }
   ],
   "source": [
    "# Distriution of Duration variable\n",
    "fig, ax = plt.subplots(figsize=(12, 6))\n",
    "sns.distplot(tables.duration,color='blue');"
   ]
  },
  {
   "cell_type": "markdown",
   "metadata": {
    "collapsed": true
   },
   "source": [
    "Above data tells us that the data is highly skewed to the right"
   ]
  },
  {
   "cell_type": "markdown",
   "metadata": {},
   "source": [
    "# Outlier Analysis of our predictor variable"
   ]
  },
  {
   "cell_type": "code",
   "execution_count": 71,
   "metadata": {},
   "outputs": [
    {
     "data": {
      "text/plain": [
       "<matplotlib.text.Text at 0x28fef8ae358>"
      ]
     },
     "execution_count": 71,
     "metadata": {},
     "output_type": "execute_result"
    },
    {
     "data": {
      "image/png": "[encoded data removed]",
      "text/plain": [
       "<matplotlib.figure.Figure at 0x28fef1176d8>"
      ]
     },
     "metadata": {},
     "output_type": "display_data"
    }
   ],
   "source": [
    "fig, ax = plt.subplots(figsize=(20, 8))\n",
    "sns.boxplot(x=\"deals\", y=\"duration\", data=tables, palette=\"PRGn\")\n",
    "ax.set_title('Distribution of Deals by Duration')"
   ]
  },
  {
   "cell_type": "markdown",
   "metadata": {},
   "source": [
    "As we can see from the above graph, the distribution of deals with respect to age doesn't vary much. The duration is high when deals made and vice versa. There are a few outliers too"
   ]
  },
  {
   "cell_type": "code",
   "execution_count": 72,
   "metadata": {
    "scrolled": true
   },
   "outputs": [
    {
     "data": {
      "text/plain": [
       "<matplotlib.text.Text at 0x28fef9660b8>"
      ]
     },
     "execution_count": 72,
     "metadata": {},
     "output_type": "execute_result"
    },
    {
     "data": {
      "image/png": "[encoded data removed]",
      "text/plain": [
       "<matplotlib.figure.Figure at 0x28fef911e80>"
      ]
     },
     "metadata": {},
     "output_type": "display_data"
    }
   ],
   "source": [
    "fig, ax = plt.subplots(figsize=(20, 8))\n",
    "sns.boxplot(x=\"deals\", y=\"balance\", data=tables, palette=\"PRGn\")\n",
    "ax.set_title('Distribution of Deals by balance')"
   ]
  },
  {
   "cell_type": "markdown",
   "metadata": {},
   "source": [
    "Since our balance variable is highly skewed, above graph doesn't convey any relevant information."
   ]
  },
  {
   "cell_type": "markdown",
   "metadata": {},
   "source": [
    "General inference which we can get from this graph is, if the duration is high, then the deals were positive else negative"
   ]
  },
  {
   "cell_type": "code",
   "execution_count": 73,
   "metadata": {},
   "outputs": [
    {
     "data": {
      "text/plain": [
       "<matplotlib.text.Text at 0x28fefb5eda0>"
      ]
     },
     "execution_count": 73,
     "metadata": {},
     "output_type": "execute_result"
    },
    {
     "data": {
      "image/png": "[encoded data removed]",
      "text/plain": [
       "<matplotlib.figure.Figure at 0x28fef94e9e8>"
      ]
     },
     "metadata": {},
     "output_type": "display_data"
    }
   ],
   "source": [
    "fig, ax = plt.subplots(figsize=(20, 8))\n",
    "ax = sns.boxplot(x=\"deals\", y=\"pdays\", data=tables)\n",
    "ax.set_title('Box Plot of pdays and deals')"
   ]
  },
  {
   "cell_type": "markdown",
   "metadata": {},
   "source": [
    "We can infer that pdays is high for successful deals"
   ]
  },
  {
   "cell_type": "markdown",
   "metadata": {},
   "source": [
    "<b>Understading the relations between the variables</b>"
   ]
  },
  {
   "cell_type": "code",
   "execution_count": 74,
   "metadata": {
    "scrolled": true
   },
   "outputs": [
    {
     "name": "stderr",
     "output_type": "stream",
     "text": [
      "C:\\Anaconda\\lib\\site-packages\\matplotlib\\figure.py:403: UserWarning: matplotlib is currently using a non-GUI backend, so cannot show the figure\n",
      "  \"matplotlib is currently using a non-GUI backend, \"\n"
     ]
    },
    {
     "name": "stdout",
     "output_type": "stream",
     "text": [
      "the corelation between these two variables are:  0.0215603804947\n"
     ]
    },
    {
     "data": {
      "image/png": "[encoded data removed]",
      "text/plain": [
       "<matplotlib.figure.Figure at 0x28fef2a1d30>"
      ]
     },
     "metadata": {},
     "output_type": "display_data"
    }
   ],
   "source": [
    "fig, ax = plt.subplots(figsize=(20,8))\n",
    "fit = np.polyfit(tables.duration,tables.balance, deg=1)\n",
    "ax.plot(tables.duration, fit[0] * tables.duration + fit[1], color='red')\n",
    "plt.scatter(tables.duration,tables.balance)\n",
    "plt.title('Duration vs Balance')\n",
    "plt.xlabel('Duration')\n",
    "plt.ylabel('Balance')\n",
    "fig.show()\n",
    "print('the corelation between these two variables are: ',pearsonr(tables.duration,tables.balance)[0])"
   ]
  },
  {
   "cell_type": "code",
   "execution_count": 75,
   "metadata": {},
   "outputs": [
    {
     "name": "stderr",
     "output_type": "stream",
     "text": [
      "C:\\Anaconda\\lib\\site-packages\\matplotlib\\figure.py:403: UserWarning: matplotlib is currently using a non-GUI backend, so cannot show the figure\n",
      "  \"matplotlib is currently using a non-GUI backend, \"\n"
     ]
    },
    {
     "name": "stdout",
     "output_type": "stream",
     "text": [
      "the corelation between these two variables are:  0.0215603804947\n"
     ]
    },
    {
     "data": {
      "image/png": "[encoded data removed]",
      "text/plain": [
       "<matplotlib.figure.Figure at 0x28ff02c8630>"
      ]
     },
     "metadata": {},
     "output_type": "display_data"
    }
   ],
   "source": [
    "fig, ax = plt.subplots(figsize=(20,8))\n",
    "fit = np.polyfit(tables.duration,tables.balance, deg=1)\n",
    "ax.plot(tables.campaign, fit[0] * tables.duration + fit[1], color='red')\n",
    "plt.scatter(tables.campaign,tables.balance)\n",
    "plt.title('campaign vs Balance')\n",
    "plt.xlabel('campaign')\n",
    "plt.ylabel('Balance')\n",
    "fig.show()\n",
    "print('the corelation between these two variables are: ',pearsonr(tables.duration,tables.balance)[0])"
   ]
  },
  {
   "cell_type": "markdown",
   "metadata": {},
   "source": [
    " Is job title affecting deals? : Yes! Hence we can say that it is a useful predictor"
   ]
  },
  {
   "cell_type": "code",
   "execution_count": 76,
   "metadata": {},
   "outputs": [
    {
     "data": {
      "image/png": "[encoded data removed]",
      "text/plain": [
       "<matplotlib.figure.Figure at 0x28fef228710>"
      ]
     },
     "metadata": {},
     "output_type": "display_data"
    }
   ],
   "source": [
    "%matplotlib inline\n",
    "\n",
    "pd.crosstab(tables.job,tables.deals).plot(kind='bar',figsize=(12,6))\n",
    "plt.title('Purchase Frequency for Job Title')\n",
    "plt.xlabel('Job')\n",
    "plt.ylabel('Frequency of Purchase')\n",
    "plt.show()"
   ]
  },
  {
   "cell_type": "code",
   "execution_count": 77,
   "metadata": {},
   "outputs": [
    {
     "data": {
      "text/plain": [
       "<matplotlib.text.Text at 0x28feab82710>"
      ]
     },
     "execution_count": 77,
     "metadata": {},
     "output_type": "execute_result"
    },
    {
     "data": {
      "image/png": "[encoded data removed]",
      "text/plain": [
       "<matplotlib.figure.Figure at 0x28feaca9c88>"
      ]
     },
     "metadata": {},
     "output_type": "display_data"
    }
   ],
   "source": [
    "# education affecting\n",
    "\n",
    "table=pd.crosstab(tables.education,tables.deals)\n",
    "table.div(table.sum(1).astype(float), axis=0).plot(kind='bar',figsize=(12,6), stacked=True)\n",
    "plt.title('Stacked Bar Chart of Education vs Purchase')\n",
    "plt.xlabel('Education')\n",
    "plt.ylabel('Proportion of Customers')\n",
    "#plt.savefig('edu_vs_pur_stack')"
   ]
  },
  {
   "cell_type": "markdown",
   "metadata": {},
   "source": [
    " Is Education affecting deals? : Yes! Hence we can say that it is a useful predictor"
   ]
  },
  {
   "cell_type": "code",
   "execution_count": 78,
   "metadata": {},
   "outputs": [
    {
     "data": {
      "text/plain": [
       "<matplotlib.text.Text at 0x28feace1438>"
      ]
     },
     "execution_count": 78,
     "metadata": {},
     "output_type": "execute_result"
    },
    {
     "data": {
      "image/png": "[encoded data removed]",
      "text/plain": [
       "<matplotlib.figure.Figure at 0x28fef134c88>"
      ]
     },
     "metadata": {},
     "output_type": "display_data"
    }
   ],
   "source": [
    "table=pd.crosstab(tables.month,tables.deals)\n",
    "table.div(table.sum(1).astype(float), axis=0).plot(kind='bar',figsize=(12,6))\n",
    "plt.title(' Bar Chart of month vs Purchase')\n",
    "plt.xlabel('month')\n",
    "plt.ylabel('Proportion of Customers')\n",
    "#plt.savefig('edu_vs_pur_stack')"
   ]
  },
  {
   "cell_type": "code",
   "execution_count": 79,
   "metadata": {},
   "outputs": [
    {
     "data": {
      "text/plain": [
       "<matplotlib.axes._subplots.AxesSubplot at 0x28ff0313da0>"
      ]
     },
     "execution_count": 79,
     "metadata": {},
     "output_type": "execute_result"
    },
    {
     "data": {
      "image/png": "[encoded data removed]",
      "text/plain": [
       "<matplotlib.figure.Figure at 0x28fefafd978>"
      ]
     },
     "metadata": {},
     "output_type": "display_data"
    }
   ],
   "source": [
    "fig, ax = plt.subplots(figsize=(20, 8))\n",
    "sns.countplot('job',data=tables,order = tables['job'].value_counts().index)"
   ]
  },
  {
   "cell_type": "markdown",
   "metadata": {},
   "source": [
    "### Data preparation for analysis of model\n",
    "\n",
    "#### Converting objects to numeric for our model"
   ]
  },
  {
   "cell_type": "code",
   "execution_count": 80,
   "metadata": {},
   "outputs": [
    {
     "data": {
      "text/html": [
       "<div>\n",
       "<style>\n",
       "    .dataframe thead tr:only-child th {\n",
       "        text-align: right;\n",
       "    }\n",
       "\n",
       "    .dataframe thead th {\n",
       "        text-align: left;\n",
       "    }\n",
       "\n",
       "    .dataframe tbody tr th {\n",
       "        vertical-align: top;\n",
       "    }\n",
       "</style>\n",
       "<table border=\"1\" class=\"dataframe\">\n",
       "  <thead>\n",
       "    <tr style=\"text-align: right;\">\n",
       "      <th></th>\n",
       "      <th>age</th>\n",
       "      <th>job</th>\n",
       "      <th>marital</th>\n",
       "      <th>education</th>\n",
       "      <th>default</th>\n",
       "      <th>balance</th>\n",
       "      <th>housing</th>\n",
       "      <th>loan</th>\n",
       "      <th>contact</th>\n",
       "      <th>day</th>\n",
       "      <th>month</th>\n",
       "      <th>duration</th>\n",
       "      <th>campaign</th>\n",
       "      <th>pdays</th>\n",
       "      <th>previous</th>\n",
       "      <th>poutcome</th>\n",
       "      <th>deals</th>\n",
       "    </tr>\n",
       "  </thead>\n",
       "  <tbody>\n",
       "    <tr>\n",
       "      <th>0</th>\n",
       "      <td>58</td>\n",
       "      <td>management</td>\n",
       "      <td>married</td>\n",
       "      <td>tertiary</td>\n",
       "      <td>no</td>\n",
       "      <td>2143</td>\n",
       "      <td>yes</td>\n",
       "      <td>no</td>\n",
       "      <td>unknown</td>\n",
       "      <td>5</td>\n",
       "      <td>may</td>\n",
       "      <td>261</td>\n",
       "      <td>1</td>\n",
       "      <td>-1</td>\n",
       "      <td>0</td>\n",
       "      <td>unknown</td>\n",
       "      <td>no</td>\n",
       "    </tr>\n",
       "    <tr>\n",
       "      <th>1</th>\n",
       "      <td>44</td>\n",
       "      <td>technician</td>\n",
       "      <td>single</td>\n",
       "      <td>secondary</td>\n",
       "      <td>no</td>\n",
       "      <td>29</td>\n",
       "      <td>yes</td>\n",
       "      <td>no</td>\n",
       "      <td>unknown</td>\n",
       "      <td>5</td>\n",
       "      <td>may</td>\n",
       "      <td>151</td>\n",
       "      <td>1</td>\n",
       "      <td>-1</td>\n",
       "      <td>0</td>\n",
       "      <td>unknown</td>\n",
       "      <td>no</td>\n",
       "    </tr>\n",
       "  </tbody>\n",
       "</table>\n",
       "</div>"
      ],
      "text/plain": [
       "   age         job  marital  education default  balance housing loan  contact  \\\n",
       "0   58  management  married   tertiary      no     2143     yes   no  unknown   \n",
       "1   44  technician   single  secondary      no       29     yes   no  unknown   \n",
       "\n",
       "   day month  duration  campaign  pdays  previous poutcome deals  \n",
       "0    5   may       261         1     -1         0  unknown    no  \n",
       "1    5   may       151         1     -1         0  unknown    no  "
      ]
     },
     "execution_count": 80,
     "metadata": {},
     "output_type": "execute_result"
    }
   ],
   "source": [
    "tables.head(2)"
   ]
  },
  {
   "cell_type": "code",
   "execution_count": 81,
   "metadata": {
    "collapsed": true
   },
   "outputs": [],
   "source": [
    "tables['deals'] = np.where(tables['deals']=='yes', 1, 0)\n",
    "#tables['default'] = np.where(tables['default']=='yes', 1, 0)\n",
    "#tables['loan'] = np.where(tables['loan']=='yes', 1, 0)\n",
    "#tables['housing'] = np.where(tables['housing']=='yes', 1, 0)\n"
   ]
  },
  {
   "cell_type": "code",
   "execution_count": 82,
   "metadata": {},
   "outputs": [
    {
     "data": {
      "text/html": [
       "<div>\n",
       "<style>\n",
       "    .dataframe thead tr:only-child th {\n",
       "        text-align: right;\n",
       "    }\n",
       "\n",
       "    .dataframe thead th {\n",
       "        text-align: left;\n",
       "    }\n",
       "\n",
       "    .dataframe tbody tr th {\n",
       "        vertical-align: top;\n",
       "    }\n",
       "</style>\n",
       "<table border=\"1\" class=\"dataframe\">\n",
       "  <thead>\n",
       "    <tr style=\"text-align: right;\">\n",
       "      <th></th>\n",
       "      <th>age</th>\n",
       "      <th>balance</th>\n",
       "      <th>day</th>\n",
       "      <th>duration</th>\n",
       "      <th>campaign</th>\n",
       "      <th>pdays</th>\n",
       "      <th>previous</th>\n",
       "      <th>deals</th>\n",
       "      <th>job_admin.</th>\n",
       "      <th>job_blue-collar</th>\n",
       "      <th>...</th>\n",
       "      <th>month_jun</th>\n",
       "      <th>month_mar</th>\n",
       "      <th>month_may</th>\n",
       "      <th>month_nov</th>\n",
       "      <th>month_oct</th>\n",
       "      <th>month_sep</th>\n",
       "      <th>poutcome_failure</th>\n",
       "      <th>poutcome_other</th>\n",
       "      <th>poutcome_success</th>\n",
       "      <th>poutcome_unknown</th>\n",
       "    </tr>\n",
       "  </thead>\n",
       "  <tbody>\n",
       "    <tr>\n",
       "      <th>0</th>\n",
       "      <td>58</td>\n",
       "      <td>2143</td>\n",
       "      <td>5</td>\n",
       "      <td>261</td>\n",
       "      <td>1</td>\n",
       "      <td>-1</td>\n",
       "      <td>0</td>\n",
       "      <td>0</td>\n",
       "      <td>0</td>\n",
       "      <td>0</td>\n",
       "      <td>...</td>\n",
       "      <td>0</td>\n",
       "      <td>0</td>\n",
       "      <td>1</td>\n",
       "      <td>0</td>\n",
       "      <td>0</td>\n",
       "      <td>0</td>\n",
       "      <td>0</td>\n",
       "      <td>0</td>\n",
       "      <td>0</td>\n",
       "      <td>1</td>\n",
       "    </tr>\n",
       "    <tr>\n",
       "      <th>1</th>\n",
       "      <td>44</td>\n",
       "      <td>29</td>\n",
       "      <td>5</td>\n",
       "      <td>151</td>\n",
       "      <td>1</td>\n",
       "      <td>-1</td>\n",
       "      <td>0</td>\n",
       "      <td>0</td>\n",
       "      <td>0</td>\n",
       "      <td>0</td>\n",
       "      <td>...</td>\n",
       "      <td>0</td>\n",
       "      <td>0</td>\n",
       "      <td>1</td>\n",
       "      <td>0</td>\n",
       "      <td>0</td>\n",
       "      <td>0</td>\n",
       "      <td>0</td>\n",
       "      <td>0</td>\n",
       "      <td>0</td>\n",
       "      <td>1</td>\n",
       "    </tr>\n",
       "  </tbody>\n",
       "</table>\n",
       "<p>2 rows × 52 columns</p>\n",
       "</div>"
      ],
      "text/plain": [
       "   age  balance  day  duration  campaign  pdays  previous  deals  job_admin.  \\\n",
       "0   58     2143    5       261         1     -1         0      0           0   \n",
       "1   44       29    5       151         1     -1         0      0           0   \n",
       "\n",
       "   job_blue-collar        ...         month_jun  month_mar  month_may  \\\n",
       "0                0        ...                 0          0          1   \n",
       "1                0        ...                 0          0          1   \n",
       "\n",
       "   month_nov  month_oct  month_sep  poutcome_failure  poutcome_other  \\\n",
       "0          0          0          0                 0               0   \n",
       "1          0          0          0                 0               0   \n",
       "\n",
       "   poutcome_success  poutcome_unknown  \n",
       "0                 0                 1  \n",
       "1                 0                 1  \n",
       "\n",
       "[2 rows x 52 columns]"
      ]
     },
     "execution_count": 82,
     "metadata": {},
     "output_type": "execute_result"
    }
   ],
   "source": [
    "new_data=pd.get_dummies(tables)\n",
    "new_data.head(2)"
   ]
  },
  {
   "cell_type": "markdown",
   "metadata": {},
   "source": [
    "### Using Recursive Feature Elimination (RFE) to identify useful predictors"
   ]
  },
  {
   "cell_type": "code",
   "execution_count": 83,
   "metadata": {
    "collapsed": true
   },
   "outputs": [],
   "source": [
    "data_column=new_data[new_data.columns.difference(['deals'])]\n",
    "data_output=new_data['deals']"
   ]
  },
  {
   "cell_type": "code",
   "execution_count": 84,
   "metadata": {},
   "outputs": [
    {
     "name": "stdout",
     "output_type": "stream",
     "text": [
      "[False False False False False  True False False False False False False\n",
      " False False False  True False False False False False False False False\n",
      "  True False False False False  True False False False False  True  True\n",
      "  True  True  True False  True  True  True  True  True False  True  True\n",
      "  True  True False]\n",
      "[32 34 16  3 13  1 29 12  8 31  5  9 23 10 20  1 26 19 11  6 25  2 22 21  1\n",
      " 24  7 14 30  1 17  4 27 18  1  1  1  1  1 15  1  1  1  1  1 33  1  1  1  1\n",
      " 28]\n"
     ]
    }
   ],
   "source": [
    "from sklearn import datasets\n",
    "from sklearn.feature_selection import RFE\n",
    "from sklearn.linear_model import LogisticRegression\n",
    "logreg = LogisticRegression()\n",
    "rfe = RFE(logreg, 18)\n",
    "rfe = rfe.fit(data_column, data_output)\n",
    "print(rfe.support_)\n",
    "print(rfe.ranking_)"
   ]
  },
  {
   "cell_type": "code",
   "execution_count": 85,
   "metadata": {
    "collapsed": true
   },
   "outputs": [],
   "source": [
    "b=data_column.columns\n",
    "a=rfe.support_\n",
    "c=pd.DataFrame(a,index=b)\n",
    "c=c[c[0]==True]"
   ]
  },
  {
   "cell_type": "markdown",
   "metadata": {},
   "source": [
    "### Final columns to be used in our model are:\n"
   ]
  },
  {
   "cell_type": "code",
   "execution_count": 86,
   "metadata": {},
   "outputs": [
    {
     "data": {
      "text/plain": [
       "Index(['contact_unknown', 'housing_yes', 'job_student', 'loan_yes',\n",
       "       'month_aug', 'month_dec', 'month_feb', 'month_jan', 'month_jul',\n",
       "       'month_mar', 'month_may', 'month_nov', 'month_oct', 'month_sep',\n",
       "       'poutcome_failure', 'poutcome_other', 'poutcome_success',\n",
       "       'poutcome_unknown'],\n",
       "      dtype='object')"
      ]
     },
     "execution_count": 86,
     "metadata": {},
     "output_type": "execute_result"
    }
   ],
   "source": [
    "c.index"
   ]
  },
  {
   "cell_type": "markdown",
   "metadata": {},
   "source": [
    "# Questions to our data"
   ]
  },
  {
   "cell_type": "markdown",
   "metadata": {},
   "source": [
    "<b>\n",
    "1. What are the factors which are influencing the deals?\n",
    "2. should the marketing team continue their focus or they should change it\n",
    "3. Is the marketing result fruitful? \n",
    "</b>"
   ]
  },
  {
   "cell_type": "markdown",
   "metadata": {},
   "source": [
    "Machine learning models\n",
    "1. Logistics Regression\n",
    "2. Random Forest Classifier\n",
    "3. Linear Discriminant Analysis\n",
    "4. K Nearest Neighbour"
   ]
  },
  {
   "cell_type": "markdown",
   "metadata": {},
   "source": [
    "#### References:\n",
    "\n",
    "> DATASET: https://archive.ics.uci.edu/ml/datasets/bank+marketing\n",
    "\n",
    "> Dr Patrick Shafto\n",
    "\n",
    "> http://scikit-learn.org/stable/modules/neighbors.html\n",
    "\n",
    "> http://scikit-learn.org/stable/modules/generated/sklearn.linear_model.LogisticRegression.html\n"
   ]
  }
 ],
 "metadata": {
  "kernelspec": {
   "display_name": "Python 3",
   "language": "python",
   "name": "python3"
  },
  "language_info": {
   "codemirror_mode": {
    "name": "ipython",
    "version": 3
   },
   "file_extension": ".py",
   "mimetype": "text/x-python",
   "name": "python",
   "nbconvert_exporter": "python",
   "pygments_lexer": "ipython3",
   "version": "3.6.1"
  }
 },
 "nbformat": 4,
 "nbformat_minor": 2
}
